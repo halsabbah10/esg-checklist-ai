{
  "cells": [
    {
      "cell_type": "markdown",
      "metadata": {},
      "source": [
        "# ESG AI Performance Analysis\n",
        "\n",
        "This notebook analyzes the performance of the ESG AI scoring system.\n",
        "\n",
        "## Objectives\n",
        "- Evaluate AI scoring accuracy\n",
        "- Analyze response patterns\n",
        "- Performance metrics visualization\n",
        "- Model improvement recommendations"
      ]
    },
    {
      "cell_type": "code",
      "execution_count": null,
      "metadata": {},
      "outputs": [],
      "source": [
        "# Import libraries for AI performance analysis\n",
        "import sys\n",
        "sys.path.append('../backend')\n",
        "\n",
        "from app.utils.ai import ai_score_text_with_gemini, calculate_enhanced_esg_score\n",
        "\n",
        "print(\"AI Performance Analysis Ready\")"
      ]
    }
  ],
  "metadata": {
    "kernelspec": {
      "display_name": "Python 3",
      "language": "python",
      "name": "python3"
    }
  },
  "nbformat": 4,
  "nbformat_minor": 4
}